{
 "cells": [
  {
   "cell_type": "code",
   "execution_count": 1,
   "id": "a1f82807-f3be-4ba9-bcb2-af11e3d915f8",
   "metadata": {},
   "outputs": [
    {
     "data": {
      "text/html": [
       "<pre style=\"white-space:pre;overflow-x:auto;line-height:normal;font-family:Menlo,'DejaVu Sans Mono',consolas,'Courier New',monospace\">Manim Community <span style=\"color: #008000; text-decoration-color: #008000\">v0.15.2</span>\n",
       "\n",
       "</pre>\n"
      ],
      "text/plain": [
       "Manim Community \u001b[32mv0.\u001b[0m\u001b[32m15.2\u001b[0m\n",
       "\n"
      ]
     },
     "metadata": {},
     "output_type": "display_data"
    }
   ],
   "source": [
    "import numpy as np\n",
    "import pandas as pd\n",
    "import dirty_cat as dc\n",
    "from sklearn.preprocessing import OneHotEncoder\n",
    "\n",
    "from manim import *\n",
    "from manim.utils.color import Colors\n",
    "config.background_color = \"#060d14\""
   ]
  },
  {
   "cell_type": "code",
   "execution_count": 2,
   "id": "3068d359-9cca-4ecc-851b-4977055e3903",
   "metadata": {},
   "outputs": [
    {
     "name": "stderr",
     "output_type": "stream",
     "text": [
      "                                                                                                                                                   \r"
     ]
    },
    {
     "data": {
      "text/html": [
       "<video src=\"media/jupyter/TakeHomeAnimation@2022-05-30@22-46-53.mp4\" controls autoplay loop style=\"max-width: 60%;\"  >\n",
       "      Your browser does not support the <code>video</code> element.\n",
       "    </video>"
      ],
      "text/plain": [
       "<IPython.core.display.Video object>"
      ]
     },
     "metadata": {},
     "output_type": "display_data"
    }
   ],
   "source": [
    "%%manim -qh -v WARNING TakeHomeAnimation\n",
    "\n",
    "class TakeHomeAnimation(Scene):\n",
    "    \n",
    "    def show_title(self):\n",
    "        title = Text(\"Take-home messages\")\n",
    "        self.play(Create(title))\n",
    "        self.play(title.animate.to_edge(UP))\n",
    "        return title\n",
    "    \n",
    "    def construct(self):\n",
    "        self.show_title()\n",
    "        \n",
    "        one = Text(\"• The SimilarityEncoder is an improvement to the OneHotEncoder\", t2g={'SimilarityEncoder': BLUE})\n",
    "        two = Text(\"• Tthe GapEncoder has a very interpretable output\", t2g={'GapEncoder': BLUE})\n",
    "        three = Text(\"• For dirty data, these encoders work better than traditional methods\")\n",
    "        four = Text(\"• These encoders can be easily added to your existing pipelines\")\n",
    "        \n",
    "        points = VGroup(one, two, three, four).scale(0.5).arrange(DOWN).move_to(LEFT)\n",
    "        for elem in [two, three, four]:\n",
    "            elem.align_to(one, LEFT)\n",
    "            \n",
    "        for elem in points:\n",
    "            self.play(Create(elem))\n",
    "            self.wait(2)\n",
    "        \n",
    "        # Fade everything out\n",
    "        self.play(*[FadeOut(mob) for mob in self.mobjects])"
   ]
  },
  {
   "cell_type": "code",
   "execution_count": 3,
   "id": "21f116ee-fe15-45d5-b39e-802fe85fb357",
   "metadata": {},
   "outputs": [
    {
     "name": "stderr",
     "output_type": "stream",
     "text": [
      "                                                                                           \r"
     ]
    },
    {
     "data": {
      "text/html": [
       "<video src=\"media/jupyter/LastScreenAnimation@2022-05-30@22-47-51.mp4\" controls autoplay loop style=\"max-width: 60%;\"  >\n",
       "      Your browser does not support the <code>video</code> element.\n",
       "    </video>"
      ],
      "text/plain": [
       "<IPython.core.display.Video object>"
      ]
     },
     "metadata": {},
     "output_type": "display_data"
    }
   ],
   "source": [
    "%%manim -qh -v WARNING LastScreenAnimation\n",
    "\n",
    "class LastScreenAnimation(Scene):\n",
    "    def construct(self):\n",
    "        title_part1 = Text(\"dirty_cat : a Python package\", slant=ITALIC)\n",
    "        title_part2 = Text(\"for Machine Learning on Dirty Categorical Data\", slant=ITALIC)\n",
    "        title = VGroup(title_part1, title_part2).arrange(DOWN).scale(0.8).to_edge(UP)\n",
    "        \n",
    "        credits = VGroup(\n",
    "            VGroup(\n",
    "                Text('Production', weight=BOLD),\n",
    "                Text('Lilian Boulard'),\n",
    "            ).arrange(DOWN),\n",
    "            VGroup(\n",
    "                Text('Music', weight=BOLD),\n",
    "                Text('Vincent Rubinetti'),\n",
    "            ).arrange(DOWN),\n",
    "            VGroup(\n",
    "                Text('Special thanks', weight=BOLD),\n",
    "                Text('Alexis Cvektov-Iliev'),\n",
    "                Text('Gaël Varoquaux'),\n",
    "                Text('Jovan Stojanovic'),\n",
    "            ).arrange(DOWN),\n",
    "        ).scale(0.5).arrange(DOWN, buff=0.5).move_to(DOWN + LEFT * 4)\n",
    "        \n",
    "        dc_logo = ImageMobject(\"assets/dirty_cat_outline.png\").scale(0.13).move_to(UP * 0.8 + RIGHT * 4.8)\n",
    "        inria_logo = ImageMobject(\"assets/inria_logo.png\").scale(0.13).move_to(UP * 0.8 + RIGHT * 1.8)\n",
    "        \n",
    "        manim = ManimBanner().scale(0.4).move_to(DOWN * 2 + RIGHT * 3)\n",
    "        \n",
    "        self.play(\n",
    "            manim.create(),\n",
    "            Create(title),\n",
    "            Create(credits),\n",
    "            FadeIn(inria_logo),\n",
    "            FadeIn(dc_logo),\n",
    "        )\n",
    "        self.play(manim.expand())\n",
    "        self.wait(2)"
   ]
  }
 ],
 "metadata": {
  "kernelspec": {
   "display_name": "Python 3 (ipykernel)",
   "language": "python",
   "name": "python3"
  },
  "language_info": {
   "codemirror_mode": {
    "name": "ipython",
    "version": 3
   },
   "file_extension": ".py",
   "mimetype": "text/x-python",
   "name": "python",
   "nbconvert_exporter": "python",
   "pygments_lexer": "ipython3",
   "version": "3.8.13"
  }
 },
 "nbformat": 4,
 "nbformat_minor": 5
}

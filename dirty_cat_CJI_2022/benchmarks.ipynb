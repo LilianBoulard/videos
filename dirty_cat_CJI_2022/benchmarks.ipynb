{
 "cells": [
  {
   "cell_type": "code",
   "execution_count": 1,
   "id": "319090c6-7a47-4443-b843-138bfdd8f2b1",
   "metadata": {},
   "outputs": [
    {
     "data": {
      "text/html": [
       "<pre style=\"white-space:pre;overflow-x:auto;line-height:normal;font-family:Menlo,'DejaVu Sans Mono',consolas,'Courier New',monospace\">Manim Community <span style=\"color: #008000; text-decoration-color: #008000\">v0.15.2</span>\n",
       "\n",
       "</pre>\n"
      ],
      "text/plain": [
       "Manim Community \u001b[32mv0.\u001b[0m\u001b[32m15.2\u001b[0m\n",
       "\n"
      ]
     },
     "metadata": {},
     "output_type": "display_data"
    }
   ],
   "source": [
    "import numpy as np\n",
    "import pandas as pd\n",
    "\n",
    "import seaborn\n",
    "import matplotlib.pyplot as plt\n",
    "\n",
    "from sklearn.model_selection import cross_val_score\n",
    "from sklearn.pipeline import make_pipeline\n",
    "from sklearn.compose import make_column_transformer\n",
    "from sklearn.ensemble import HistGradientBoostingRegressor\n",
    "from sklearn.preprocessing import OneHotEncoder, OrdinalEncoder\n",
    "\n",
    "from dirty_cat.datasets import fetch_employee_salaries\n",
    "from dirty_cat import SimilarityEncoder, MinHashEncoder, GapEncoder\n",
    "\n",
    "from manim import *\n",
    "from manim.utils.color import Colors\n",
    "config.background_color = \"#060d14\""
   ]
  },
  {
   "cell_type": "code",
   "execution_count": 2,
   "id": "7b0762d2-1cef-4174-a56e-d2439863e6d6",
   "metadata": {},
   "outputs": [],
   "source": [
    "def benchmark():\n",
    "    employee_salaries = fetch_employee_salaries()\n",
    "    X = employee_salaries.X\n",
    "    y = employee_salaries.y\n",
    "\n",
    "    X['date_first_hired'] = pd.to_datetime(X['date_first_hired'])\n",
    "    X['year_first_hired'] = X['date_first_hired'].apply(lambda x: x.year)\n",
    "    # Get mask of rows with missing values in gender\n",
    "    mask = X.isna()['gender']\n",
    "    # And remove the lines accordingly\n",
    "    X.dropna(subset=['gender'], inplace=True)\n",
    "    y = y[~mask]\n",
    "    \n",
    "    one_hot = OneHotEncoder(handle_unknown='ignore', sparse=False)\n",
    "\n",
    "    encoders = {\n",
    "        'Similarity': SimilarityEncoder(similarity='ngram'),\n",
    "        'Gamma-Poisson': GapEncoder(n_components=100),\n",
    "        'One-Hot': one_hot,\n",
    "        'Min-Hash': MinHashEncoder(n_components=100),\n",
    "        'Ordinal': OrdinalEncoder(handle_unknown='use_encoded_value', unknown_value=np.nan),\n",
    "    }\n",
    "\n",
    "    all_scores = dict()\n",
    "\n",
    "    for name, method in encoders.items():\n",
    "        encoder = make_column_transformer(\n",
    "            (one_hot, ['gender', 'department_name', 'assignment_category']),\n",
    "            ('passthrough', ['year_first_hired']),\n",
    "            # Last but not least, our dirty column\n",
    "            (method, ['employee_position_title']),\n",
    "            remainder='drop',\n",
    "        )\n",
    "\n",
    "        pipeline = make_pipeline(encoder, HistGradientBoostingRegressor())\n",
    "        scores = cross_val_score(pipeline, X, y)\n",
    "        print(f'{name} encoding')\n",
    "        print(f'r2 score:  mean: {np.mean(scores):.3f}; '\n",
    "              f'std: {np.std(scores):.3f}\\n')\n",
    "        all_scores[name] = scores\n",
    "        \n",
    "        plt.figure(figsize=(6, 3))\n",
    "        \n",
    "    ax = seaborn.boxplot(data=pd.DataFrame(all_scores), orient='h')\n",
    "    plt.ylabel('Encoding\\n', size=20)\n",
    "    plt.xlabel('Prediction accuracy', size=20)\n",
    "    plt.yticks(size=20)\n",
    "    plt.tight_layout()\n",
    "    plt.savefig('assets/benchmark_results.png')\n",
    "\n",
    "#benchmark()"
   ]
  },
  {
   "cell_type": "code",
   "execution_count": 5,
   "id": "f40e7c09-3636-44a6-8099-72ad857cb06c",
   "metadata": {},
   "outputs": [
    {
     "name": "stderr",
     "output_type": "stream",
     "text": [
      "                                                                                                                                \r"
     ]
    },
    {
     "data": {
      "text/html": [
       "<video src=\"media/jupyter/BenchmarkAnimation@2022-05-31@00-42-26.mp4\" controls autoplay loop style=\"max-width: 60%;\"  >\n",
       "      Your browser does not support the <code>video</code> element.\n",
       "    </video>"
      ],
      "text/plain": [
       "<IPython.core.display.Video object>"
      ]
     },
     "metadata": {},
     "output_type": "display_data"
    }
   ],
   "source": [
    "%%manim -qh -v WARNING BenchmarkAnimation\n",
    "\n",
    "class BenchmarkAnimation(Scene):\n",
    "    \n",
    "    def show_title(self):\n",
    "        title = Text(\"Benchmarks\")\n",
    "        self.play(Create(title))\n",
    "        self.play(title.animate.to_edge(UP))\n",
    "        return title\n",
    "    \n",
    "    def construct(self):\n",
    "        title = self.show_title()\n",
    "        self.wait(2)\n",
    "        \n",
    "        methods = VGroup(\n",
    "            Text(\"We will compare the performances of\"),\n",
    "            Text(\"• SimilarityEncoder\"),\n",
    "            Text(\"• GapEncoder (Gamma-Poisson)\"),\n",
    "            Text(\"• OneHotEncoder\"),\n",
    "            Text(\"• MinHashEncoder (from dirty_cat)\"),\n",
    "            Text(\"• OrdinalEncoder (a classic encoder)\"),\n",
    "        ).scale(0.5).arrange(DOWN).move_to(LEFT * 3.5 + UP * 0.25)\n",
    "        self.play(Create(methods[0]))\n",
    "        # Align methods properly and show\n",
    "        for method in methods[1:]:\n",
    "            method.align_to(methods[0], LEFT).shift(RIGHT * 0.25)\n",
    "            self.play(Create(method))\n",
    "            self.wait(0.1)\n",
    "        self.wait(0.2)\n",
    "        \n",
    "        benchmark_result = ImageMobject(\"assets/benchmark_results_inverted.png\").scale(2).move_to(RIGHT * 3.75 + UP * 0.25)\n",
    "        \n",
    "        self.play(FadeIn(benchmark_result))\n",
    "        self.wait(0.2)\n",
    "        \n",
    "        takeaway = Text(\"Methods designed for dirty data outperform classical ones !\").scale(0.6).move_to(DOWN * 2.5)\n",
    "        \n",
    "        self.play(Create(takeaway))\n",
    "        self.wait(3)\n",
    "        \n",
    "        # Fade everything out except title\n",
    "        self.play(\n",
    "            FadeOut(methods),\n",
    "            FadeOut(benchmark_result),\n",
    "            FadeOut(takeaway),\n",
    "        )\n",
    "        self.wait()\n",
    "        \n",
    "        usage_title = Text(\"Usage\").to_edge(UP)\n",
    "        \n",
    "        ex_ohe = ImageMobject(\"assets/ex_ohe.png\").move_to(LEFT * 3.5)\n",
    "        arrow = Arrow(start=LEFT, end=RIGHT)\n",
    "        ex_sim = ImageMobject(\"assets/ex_sim.png\").move_to(RIGHT * 3.5)\n",
    "        \n",
    "        comparison = Group(ex_ohe, arrow, ex_sim).shift(DOWN * 0.5)\n",
    "        \n",
    "        self.play(Transform(title, usage_title))\n",
    "        self.wait()\n",
    "        self.play(\n",
    "            FadeIn(ex_ohe),\n",
    "            FadeIn(ex_sim),\n",
    "            Create(arrow),\n",
    "        )\n",
    "        self.wait(3)\n",
    "        \n",
    "        # Fade everything out\n",
    "        self.play(*[FadeOut(mob) for mob in self.mobjects])"
   ]
  }
 ],
 "metadata": {
  "kernelspec": {
   "display_name": "Python 3 (ipykernel)",
   "language": "python",
   "name": "python3"
  },
  "language_info": {
   "codemirror_mode": {
    "name": "ipython",
    "version": 3
   },
   "file_extension": ".py",
   "mimetype": "text/x-python",
   "name": "python",
   "nbconvert_exporter": "python",
   "pygments_lexer": "ipython3",
   "version": "3.8.13"
  }
 },
 "nbformat": 4,
 "nbformat_minor": 5
}
